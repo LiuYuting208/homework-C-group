{
 "cells": [
  {
   "cell_type": "code",
   "execution_count": 1,
   "metadata": {},
   "outputs": [
    {
     "ename": "ModuleNotFoundError",
     "evalue": "No module named 'letsplot'",
     "output_type": "error",
     "traceback": [
      "\u001b[1;31m---------------------------------------------------------------------------\u001b[0m",
      "\u001b[1;31mModuleNotFoundError\u001b[0m                       Traceback (most recent call last)",
      "Cell \u001b[1;32mIn[1], line 1\u001b[0m\n\u001b[1;32m----> 1\u001b[0m \u001b[38;5;28;01mimport\u001b[39;00m \u001b[38;5;21;01mletsplot\u001b[39;00m \u001b[38;5;28;01mas\u001b[39;00m \u001b[38;5;21;01mlp\u001b[39;00m\n\u001b[0;32m      2\u001b[0m \u001b[38;5;28;01mimport\u001b[39;00m \u001b[38;5;21;01mpandas\u001b[39;00m \u001b[38;5;28;01mas\u001b[39;00m \u001b[38;5;21;01mpd\u001b[39;00m\n\u001b[0;32m      3\u001b[0m lp\u001b[38;5;241m.\u001b[39mggplot(df, aes(x\u001b[38;5;241m=\u001b[39m\u001b[38;5;124m'\u001b[39m\u001b[38;5;124mplastic_waste_per_capita\u001b[39m\u001b[38;5;124m'\u001b[39m)) \u001b[38;5;241m+\u001b[39m \\\n\u001b[0;32m      4\u001b[0m     lp\u001b[38;5;241m.\u001b[39mgeom_histogram(bins\u001b[38;5;241m=\u001b[39m\u001b[38;5;241m30\u001b[39m) \u001b[38;5;241m+\u001b[39m \\\n\u001b[0;32m      5\u001b[0m     lp\u001b[38;5;241m.\u001b[39mfacet_wrap(\u001b[38;5;124m'\u001b[39m\u001b[38;5;124mcontinent\u001b[39m\u001b[38;5;124m'\u001b[39m) \u001b[38;5;241m+\u001b[39m \\\n\u001b[1;32m   (...)\u001b[0m\n\u001b[0;32m      8\u001b[0m     lp\u001b[38;5;241m.\u001b[39mylab(\u001b[38;5;124m'\u001b[39m\u001b[38;5;124mCount\u001b[39m\u001b[38;5;124m'\u001b[39m) \u001b[38;5;241m+\u001b[39m \\\n\u001b[0;32m      9\u001b[0m     lp\u001b[38;5;241m.\u001b[39mshow()\n",
      "\u001b[1;31mModuleNotFoundError\u001b[0m: No module named 'letsplot'"
     ]
    }
   ],
   "source": [
    "import letsplot as lp\n",
    "import pandas as pd\n",
    "lp.ggplot(df, aes(x='plastic_waste_per_capita')) + \\\n",
    "    lp.geom_histogram(bins=30) + \\\n",
    "    lp.facet_wrap('continent') + \\\n",
    "    lp.ggtitle('Distribution of Plastic Waste Per Capita by Continent') + \\\n",
    "    lp.xlab('Plastic Waste Per Capita') + \\\n",
    "    lp.ylab('Count') + \\\n",
    "    lp.show()"
   ]
  }
 ],
 "metadata": {
  "kernelspec": {
   "display_name": "Python 3",
   "language": "python",
   "name": "python3"
  },
  "language_info": {
   "codemirror_mode": {
    "name": "ipython",
    "version": 3
   },
   "file_extension": ".py",
   "mimetype": "text/x-python",
   "name": "python",
   "nbconvert_exporter": "python",
   "pygments_lexer": "ipython3",
   "version": "3.13.0"
  }
 },
 "nbformat": 4,
 "nbformat_minor": 2
}
